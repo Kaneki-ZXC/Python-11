{
 "cells": [
  {
   "cell_type": "code",
   "execution_count": 1,
   "metadata": {},
   "outputs": [
    {
     "name": "stdout",
     "output_type": "stream",
     "text": [
      "Asadbek / Tuxtashev / 18 / asadbek.tuxtashev@bk.ru / 3392683...\n"
     ]
    }
   ],
   "source": [
    "fist_name = \"Asadbek\"\n",
    "last_name = \"Tuxtashev\"\n",
    "age = 18\n",
    "email = \"asadbek.tuxtashev@bk.ru\"\n",
    "parol = \"3392683...\"\n",
    "print(fist_name, last_name, age, email, parol, sep=\" / \")"
   ]
  }
 ],
 "metadata": {
  "kernelspec": {
   "display_name": "Python 3",
   "language": "python",
   "name": "python3"
  },
  "language_info": {
   "codemirror_mode": {
    "name": "ipython",
    "version": 3
   },
   "file_extension": ".py",
   "mimetype": "text/x-python",
   "name": "python",
   "nbconvert_exporter": "python",
   "pygments_lexer": "ipython3",
   "version": "3.11.2"
  },
  "orig_nbformat": 4
 },
 "nbformat": 4,
 "nbformat_minor": 2
}
